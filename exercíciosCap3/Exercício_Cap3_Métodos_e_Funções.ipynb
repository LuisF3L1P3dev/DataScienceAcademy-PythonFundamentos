{
  "nbformat": 4,
  "nbformat_minor": 0,
  "metadata": {
    "colab": {
      "provenance": []
    },
    "kernelspec": {
      "name": "python3",
      "display_name": "Python 3"
    },
    "language_info": {
      "name": "python"
    }
  },
  "cells": [
    {
      "cell_type": "code",
      "execution_count": 1,
      "metadata": {
        "colab": {
          "base_uri": "https://localhost:8080/"
        },
        "id": "oQFKZHGZ48Th",
        "outputId": "4476a7ae-c26e-4d84-ed80-e19b9a8584bc"
      },
      "outputs": [
        {
          "output_type": "stream",
          "name": "stdout",
          "text": [
            "Versão da Linguagem Python Usada Neste Jupyter Notebook: 3.8.15\n"
          ]
        }
      ],
      "source": [
        "# Versão da Linguagem Python\n",
        "from platform import python_version\n",
        "print('Versão da Linguagem Python Usada Neste Jupyter Notebook:', python_version())\n"
      ]
    },
    {
      "cell_type": "markdown",
      "source": [
        "# Exercícios - Métodos e Funções"
      ],
      "metadata": {
        "id": "4-s_spE-5P9h"
      }
    },
    {
      "cell_type": "code",
      "source": [
        "# Exercício 1 - Crie uma função que imprima a sequência de números pares entre 1 e 20 (a função não recebe parâmetro) e \n",
        "# depois faça uma chamada à função para listar os números      \n",
        "\n",
        "def secPar():\n",
        "    for i in range(2,21,2):\n",
        "        print(i)\n",
        "\n",
        "def secPar2(cont=0):\n",
        "    if cont <= 21 and cont%2 == 0: \n",
        "        print(cont)\n",
        "        \n",
        "    if(cont<=21):\n",
        "        return secPar2(cont+1)\n",
        "\n",
        "\n",
        "secPar2()"
      ],
      "metadata": {
        "colab": {
          "base_uri": "https://localhost:8080/"
        },
        "id": "iPkCZjTK5RfY",
        "outputId": "f46c72ca-b1e4-4626-c957-78edf124146c"
      },
      "execution_count": 45,
      "outputs": [
        {
          "output_type": "stream",
          "name": "stdout",
          "text": [
            "0\n",
            "2\n",
            "4\n",
            "6\n",
            "8\n",
            "10\n",
            "12\n",
            "14\n",
            "16\n",
            "18\n",
            "20\n"
          ]
        }
      ]
    },
    {
      "cell_type": "code",
      "source": [
        "\n",
        "\n",
        "def imprimir_pares():\n",
        "    for x in range (0, 21):\n",
        "        if x % 2 == 0 and x != 0:\n",
        "            print(x)\n",
        "    return \"ok\"\n",
        "\n",
        "imprimir_pares()\n",
        "\n",
        "\n",
        "    "
      ],
      "metadata": {
        "id": "1UhleRnU9Y2q"
      },
      "execution_count": null,
      "outputs": []
    },
    {
      "cell_type": "code",
      "source": [],
      "metadata": {
        "id": "-zXueEr39hOv"
      },
      "execution_count": null,
      "outputs": []
    }
  ]
}